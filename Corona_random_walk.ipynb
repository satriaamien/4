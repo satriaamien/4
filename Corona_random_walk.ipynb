{
  "nbformat": 4,
  "nbformat_minor": 0,
  "metadata": {
    "colab": {
      "name": "Corona_random_walk.ipynb",
      "provenance": [],
      "collapsed_sections": [],
      "include_colab_link": true
    },
    "kernelspec": {
      "name": "python3",
      "display_name": "Python 3"
    }
  },
  "cells": [
    {
      "cell_type": "markdown",
      "metadata": {
        "id": "view-in-github",
        "colab_type": "text"
      },
      "source": [
        "<a href=\"https://colab.research.google.com/github/satriaamien/4/blob/master/Corona_random_walk.ipynb\" target=\"_parent\"><img src=\"https://colab.research.google.com/assets/colab-badge.svg\" alt=\"Open In Colab\"/></a>"
      ]
    },
    {
      "cell_type": "markdown",
      "metadata": {
        "id": "kirFd3nfDmli",
        "colab_type": "text"
      },
      "source": [
        "**ALGORITMA**\n",
        "\n",
        "1 Inisialisasi variabel scalar\n",
        "- jumlah individu\n",
        "- rasio individu yang terinfeksi\n",
        "- waktu pemulihan\n",
        "- ukuran ruang simulasi\n",
        "- probabilitas individu bergerak\n",
        "\n",
        "2 Inisialisasi variabel list\n",
        "- posisi masing-masing individu\n",
        "- status kesehatan individu (individu dengan rasio tertentu berstatus terinfeksi)\n",
        "- status imunitas individu\n",
        "- waktu terinfeksi individu\n",
        "\n",
        "3 Iterasi\n",
        "\n",
        "Selama jumlah individu terinfeksi > 0:\n",
        "- Untuk setiap individu:\n",
        "- Update posisi berdasarkan probabilitas individu bergerak\n",
        "- Koreksi posisi dengan PBC\n",
        "- Update waktu terinfeksi untuk individu yang sudah terinfeksi.\n",
        "- Update status kesehatan individu - recovery\n",
        "- Jika waktu terinfeksi > waktu pemulihan, maka individu yang\n",
        "terinfeksi didefinisikan pulih\n",
        "- Update status imun individu (individu yang sudah pulih memiliki imun\n",
        "sehingga tidak akan terinfeksi lagi)\n",
        "- Update status kesehatan individu – infection\n",
        "- Hitung jarak individu sehat dengan individu terinfeksi\n",
        "- Jika jarak individu sehat sama dengan individu terinfeksi dan\n",
        "individu tersebut belum memiliki imun, maka individu sehat\n",
        "tersebut terinfeksi\n",
        "- Hitung dan simpan jumlah individu terinfeksi"
      ]
    },
    {
      "cell_type": "markdown",
      "metadata": {
        "id": "q0VHme7L7TMF",
        "colab_type": "text"
      },
      "source": [
        "Instruksi Tugas\n",
        "Buatlah simulasi penyebaran penyakit/virus dengan menggunakan Random Walk 4 \n",
        "Arah dengan menggunakan variabel-variabel berikut:\n",
        "\n",
        "o Jumlah individu: 200\n",
        "\n",
        "o Rasio individu terinfeksi: 5%\n",
        "\n",
        "o Probabilitas individu bergerak: 80%\n",
        "\n",
        "o Waktu pemulihan: 10 hari\n",
        "\n",
        "o Ukuran ruang simulasi: 20 x 20 unit\n",
        "\n",
        "1. Challenge 1 (80 poin)\n",
        "a. Lakukan simulasi dan buatlah plot jumlah individu yang terinfeksi tiap harinya.\n",
        "b. Tentukan waktu pemulihan yang diperlukan oleh komunitas tersebut.\n",
        "2. Challenge 2 (20 poin)\n",
        "Buatlah video dari simulasi tersebut dan berikan pembeda (misal: warna) untuk \n",
        "individu yang sehat dan individu yang terinfeksi."
      ]
    },
    {
      "cell_type": "code",
      "metadata": {
        "id": "oQiRMdasyAO9",
        "colab_type": "code",
        "outputId": "75acb85d-568f-4d9f-99bc-60e4b75bceef",
        "colab": {
          "base_uri": "https://localhost:8080/",
          "height": 282
        }
      },
      "source": [
        "import numpy as np\n",
        "import pandas as pd\n",
        "import matplotlib.pyplot as plt\n",
        "\n",
        "np.random.seed(50)\n",
        "\n",
        "data = np.random.randint(1,20,size=(200,2))\n",
        "df = pd.DataFrame(data, columns=['x','y'])\n",
        "\n",
        "# print(df)\n",
        "\n",
        "plt.scatter(df['x'],df['y'])\n",
        "plt.show "
      ],
      "execution_count": 80,
      "outputs": [
        {
          "output_type": "execute_result",
          "data": {
            "text/plain": [
              "<function matplotlib.pyplot.show>"
            ]
          },
          "metadata": {
            "tags": []
          },
          "execution_count": 80
        },
        {
          "output_type": "display_data",
          "data": {
            "image/png": "[encoded data removed]",
            "text/plain": [
              "<Figure size 432x288 with 1 Axes>"
            ]
          },
          "metadata": {
            "tags": [],
            "needs_background": "light"
          }
        }
      ]
    },
    {
      "cell_type": "code",
      "metadata": {
        "id": "9CcQgsfGTPcZ",
        "colab_type": "code",
        "colab": {}
      },
      "source": [
        "#generate population \n",
        "all_df=df"
      ],
      "execution_count": 0,
      "outputs": []
    },
    {
      "cell_type": "code",
      "metadata": {
        "id": "eip7hDRDqQqr",
        "colab_type": "code",
        "colab": {}
      },
      "source": [
        "# # df['x'].iloc[]\n",
        "# z=df.append({\"x\":100},ignore_index=True)\n",
        "# z\n",
        "# z=df.drop(df.index[0])\n",
        "# z[]"
      ],
      "execution_count": 0,
      "outputs": []
    },
    {
      "cell_type": "code",
      "metadata": {
        "id": "G9icm2Z7T0yR",
        "colab_type": "code",
        "outputId": "7dcd4253-e47c-449c-f32a-9ecd23c870b6",
        "colab": {
          "base_uri": "https://localhost:8080/",
          "height": 356
        }
      },
      "source": [
        "# generate infected people\n",
        "\n",
        "infected = df.iloc[:10]\n",
        "infected"
      ],
      "execution_count": 70,
      "outputs": [
        {
          "output_type": "execute_result",
          "data": {
            "text/html": [
              "<div>\n",
              "<style scoped>\n",
              "    .dataframe tbody tr th:only-of-type {\n",
              "        vertical-align: middle;\n",
              "    }\n",
              "\n",
              "    .dataframe tbody tr th {\n",
              "        vertical-align: top;\n",
              "    }\n",
              "\n",
              "    .dataframe thead th {\n",
              "        text-align: right;\n",
              "    }\n",
              "</style>\n",
              "<table border=\"1\" class=\"dataframe\">\n",
              "  <thead>\n",
              "    <tr style=\"text-align: right;\">\n",
              "      <th></th>\n",
              "      <th>x</th>\n",
              "      <th>y</th>\n",
              "    </tr>\n",
              "  </thead>\n",
              "  <tbody>\n",
              "    <tr>\n",
              "      <th>0</th>\n",
              "      <td>17</td>\n",
              "      <td>1</td>\n",
              "    </tr>\n",
              "    <tr>\n",
              "      <th>1</th>\n",
              "      <td>12</td>\n",
              "      <td>14</td>\n",
              "    </tr>\n",
              "    <tr>\n",
              "      <th>2</th>\n",
              "      <td>2</td>\n",
              "      <td>5</td>\n",
              "    </tr>\n",
              "    <tr>\n",
              "      <th>3</th>\n",
              "      <td>7</td>\n",
              "      <td>6</td>\n",
              "    </tr>\n",
              "    <tr>\n",
              "      <th>4</th>\n",
              "      <td>7</td>\n",
              "      <td>14</td>\n",
              "    </tr>\n",
              "    <tr>\n",
              "      <th>5</th>\n",
              "      <td>6</td>\n",
              "      <td>3</td>\n",
              "    </tr>\n",
              "    <tr>\n",
              "      <th>6</th>\n",
              "      <td>8</td>\n",
              "      <td>16</td>\n",
              "    </tr>\n",
              "    <tr>\n",
              "      <th>7</th>\n",
              "      <td>5</td>\n",
              "      <td>15</td>\n",
              "    </tr>\n",
              "    <tr>\n",
              "      <th>8</th>\n",
              "      <td>4</td>\n",
              "      <td>7</td>\n",
              "    </tr>\n",
              "    <tr>\n",
              "      <th>9</th>\n",
              "      <td>12</td>\n",
              "      <td>18</td>\n",
              "    </tr>\n",
              "  </tbody>\n",
              "</table>\n",
              "</div>"
            ],
            "text/plain": [
              "    x   y\n",
              "0  17   1\n",
              "1  12  14\n",
              "2   2   5\n",
              "3   7   6\n",
              "4   7  14\n",
              "5   6   3\n",
              "6   8  16\n",
              "7   5  15\n",
              "8   4   7\n",
              "9  12  18"
            ]
          },
          "metadata": {
            "tags": []
          },
          "execution_count": 70
        }
      ]
    },
    {
      "cell_type": "code",
      "metadata": {
        "id": "doFNL1LuVp_O",
        "colab_type": "code",
        "outputId": "70d16c83-956d-420e-81c7-6e18153adba5",
        "colab": {
          "base_uri": "https://localhost:8080/",
          "height": 416
        }
      },
      "source": [
        "df = df.drop(df.index[:10])\n",
        "df"
      ],
      "execution_count": 71,
      "outputs": [
        {
          "output_type": "execute_result",
          "data": {
            "text/html": [
              "<div>\n",
              "<style scoped>\n",
              "    .dataframe tbody tr th:only-of-type {\n",
              "        vertical-align: middle;\n",
              "    }\n",
              "\n",
              "    .dataframe tbody tr th {\n",
              "        vertical-align: top;\n",
              "    }\n",
              "\n",
              "    .dataframe thead th {\n",
              "        text-align: right;\n",
              "    }\n",
              "</style>\n",
              "<table border=\"1\" class=\"dataframe\">\n",
              "  <thead>\n",
              "    <tr style=\"text-align: right;\">\n",
              "      <th></th>\n",
              "      <th>x</th>\n",
              "      <th>y</th>\n",
              "    </tr>\n",
              "  </thead>\n",
              "  <tbody>\n",
              "    <tr>\n",
              "      <th>10</th>\n",
              "      <td>11</td>\n",
              "      <td>10</td>\n",
              "    </tr>\n",
              "    <tr>\n",
              "      <th>11</th>\n",
              "      <td>1</td>\n",
              "      <td>7</td>\n",
              "    </tr>\n",
              "    <tr>\n",
              "      <th>12</th>\n",
              "      <td>3</td>\n",
              "      <td>16</td>\n",
              "    </tr>\n",
              "    <tr>\n",
              "      <th>13</th>\n",
              "      <td>10</td>\n",
              "      <td>4</td>\n",
              "    </tr>\n",
              "    <tr>\n",
              "      <th>14</th>\n",
              "      <td>3</td>\n",
              "      <td>13</td>\n",
              "    </tr>\n",
              "    <tr>\n",
              "      <th>...</th>\n",
              "      <td>...</td>\n",
              "      <td>...</td>\n",
              "    </tr>\n",
              "    <tr>\n",
              "      <th>195</th>\n",
              "      <td>5</td>\n",
              "      <td>3</td>\n",
              "    </tr>\n",
              "    <tr>\n",
              "      <th>196</th>\n",
              "      <td>16</td>\n",
              "      <td>15</td>\n",
              "    </tr>\n",
              "    <tr>\n",
              "      <th>197</th>\n",
              "      <td>1</td>\n",
              "      <td>1</td>\n",
              "    </tr>\n",
              "    <tr>\n",
              "      <th>198</th>\n",
              "      <td>13</td>\n",
              "      <td>15</td>\n",
              "    </tr>\n",
              "    <tr>\n",
              "      <th>199</th>\n",
              "      <td>9</td>\n",
              "      <td>1</td>\n",
              "    </tr>\n",
              "  </tbody>\n",
              "</table>\n",
              "<p>190 rows × 2 columns</p>\n",
              "</div>"
            ],
            "text/plain": [
              "      x   y\n",
              "10   11  10\n",
              "11    1   7\n",
              "12    3  16\n",
              "13   10   4\n",
              "14    3  13\n",
              "..   ..  ..\n",
              "195   5   3\n",
              "196  16  15\n",
              "197   1   1\n",
              "198  13  15\n",
              "199   9   1\n",
              "\n",
              "[190 rows x 2 columns]"
            ]
          },
          "metadata": {
            "tags": []
          },
          "execution_count": 71
        }
      ]
    },
    {
      "cell_type": "code",
      "metadata": {
        "id": "2xTk_R_HaJFG",
        "colab_type": "code",
        "outputId": "6d160835-b047-44ca-83ec-120846180550",
        "colab": {
          "base_uri": "https://localhost:8080/",
          "height": 416
        }
      },
      "source": [
        "df"
      ],
      "execution_count": 82,
      "outputs": [
        {
          "output_type": "execute_result",
          "data": {
            "text/html": [
              "<div>\n",
              "<style scoped>\n",
              "    .dataframe tbody tr th:only-of-type {\n",
              "        vertical-align: middle;\n",
              "    }\n",
              "\n",
              "    .dataframe tbody tr th {\n",
              "        vertical-align: top;\n",
              "    }\n",
              "\n",
              "    .dataframe thead th {\n",
              "        text-align: right;\n",
              "    }\n",
              "</style>\n",
              "<table border=\"1\" class=\"dataframe\">\n",
              "  <thead>\n",
              "    <tr style=\"text-align: right;\">\n",
              "      <th></th>\n",
              "      <th>x</th>\n",
              "      <th>y</th>\n",
              "    </tr>\n",
              "  </thead>\n",
              "  <tbody>\n",
              "    <tr>\n",
              "      <th>0</th>\n",
              "      <td>17</td>\n",
              "      <td>1</td>\n",
              "    </tr>\n",
              "    <tr>\n",
              "      <th>1</th>\n",
              "      <td>12</td>\n",
              "      <td>14</td>\n",
              "    </tr>\n",
              "    <tr>\n",
              "      <th>2</th>\n",
              "      <td>2</td>\n",
              "      <td>5</td>\n",
              "    </tr>\n",
              "    <tr>\n",
              "      <th>3</th>\n",
              "      <td>7</td>\n",
              "      <td>6</td>\n",
              "    </tr>\n",
              "    <tr>\n",
              "      <th>4</th>\n",
              "      <td>7</td>\n",
              "      <td>14</td>\n",
              "    </tr>\n",
              "    <tr>\n",
              "      <th>...</th>\n",
              "      <td>...</td>\n",
              "      <td>...</td>\n",
              "    </tr>\n",
              "    <tr>\n",
              "      <th>195</th>\n",
              "      <td>5</td>\n",
              "      <td>3</td>\n",
              "    </tr>\n",
              "    <tr>\n",
              "      <th>196</th>\n",
              "      <td>16</td>\n",
              "      <td>15</td>\n",
              "    </tr>\n",
              "    <tr>\n",
              "      <th>197</th>\n",
              "      <td>1</td>\n",
              "      <td>1</td>\n",
              "    </tr>\n",
              "    <tr>\n",
              "      <th>198</th>\n",
              "      <td>13</td>\n",
              "      <td>15</td>\n",
              "    </tr>\n",
              "    <tr>\n",
              "      <th>199</th>\n",
              "      <td>9</td>\n",
              "      <td>1</td>\n",
              "    </tr>\n",
              "  </tbody>\n",
              "</table>\n",
              "<p>200 rows × 2 columns</p>\n",
              "</div>"
            ],
            "text/plain": [
              "      x   y\n",
              "0    17   1\n",
              "1    12  14\n",
              "2     2   5\n",
              "3     7   6\n",
              "4     7  14\n",
              "..   ..  ..\n",
              "195   5   3\n",
              "196  16  15\n",
              "197   1   1\n",
              "198  13  15\n",
              "199   9   1\n",
              "\n",
              "[200 rows x 2 columns]"
            ]
          },
          "metadata": {
            "tags": []
          },
          "execution_count": 82
        }
      ]
    },
    {
      "cell_type": "code",
      "metadata": {
        "id": "LHtZI0deco_h",
        "colab_type": "code",
        "outputId": "e35c7f6f-e032-44f5-a5d1-49e0cae551e3",
        "colab": {
          "base_uri": "https://localhost:8080/",
          "height": 52
        }
      },
      "source": [
        "# data = {'x': [], \n",
        "#         'y': [], \n",
        "#         } \n",
        "# tb_update=pd.DataFrame(data)\n",
        "# # z=df.append({\"x\":100},ignore_index=True)\n",
        "# tb_update=tb_update.append({\"x\":100},ignore_index=True)\n",
        "\n",
        "# tb_update['x']\n"
      ],
      "execution_count": 144,
      "outputs": [
        {
          "output_type": "execute_result",
          "data": {
            "text/plain": [
              "0    100.0\n",
              "Name: x, dtype: float64"
            ]
          },
          "metadata": {
            "tags": []
          },
          "execution_count": 144
        }
      ]
    },
    {
      "cell_type": "code",
      "metadata": {
        "id": "b-csyhLhpXiw",
        "colab_type": "code",
        "colab": {}
      },
      "source": [
        ""
      ],
      "execution_count": 0,
      "outputs": []
    },
    {
      "cell_type": "markdown",
      "metadata": {
        "id": "AOnBKTPYdTKa",
        "colab_type": "text"
      },
      "source": [
        "INFEKSI DAN YANG BELUM TERINFEKSI BISA BERGERAK"
      ]
    },
    {
      "cell_type": "code",
      "metadata": {
        "id": "a-_EcawWio18",
        "colab_type": "code",
        "colab": {
          "base_uri": "https://localhost:8080/",
          "height": 356
        },
        "outputId": "f18b7042-83f2-4020-91e6-3f00fc0f9cfe"
      },
      "source": [
        "data = {'x': [], \n",
        "        'y': [], \n",
        "        } \n",
        "sehat_update=pd.DataFrame(data)\n",
        "data2 = {'x': [], \n",
        "        'y': [],\n",
        "         'status':[]\n",
        "        } \n",
        "infected_update=pd.DataFrame(data2)\n",
        "data3 = {'x': [], \n",
        "        'y': [], \n",
        "        } \n",
        "imun_update=pd.DataFrame(data3)\n",
        "\n",
        "time_recovery=10\n",
        "ITR = range(10)\n",
        "POP = range(190)\n",
        "np.random.seed(50)\n",
        "df_drop=df\n",
        "# time_infected=0\n",
        "for i in ITR:#sehat\n",
        "  # time+=1\n",
        "  # print(time)\n",
        "  # df=df_drop\n",
        "  prob = np.random.random()\n",
        "  if prob<=0.8:#TIDAK TERINFEKSI\n",
        "    # tmp_x,tmp_y = [],[]\n",
        "    for j in POP:\n",
        "      min_x=min(all_df['x'])#buat rumus pcb\n",
        "      min_y=min(all_df['y'])\n",
        "      max_x=max(all_df['x'])\n",
        "      max_y=max(all_df['y'])\n",
        "\n",
        "      x = df['x'].iloc[j]\n",
        "      y = df['y'].iloc[j]\n",
        "      rand = np.random.random()\n",
        "      if rand <= 0.25:\n",
        "            x+=1\n",
        "      elif (rand>0.25 and rand<=0.5):\n",
        "            x-=1\n",
        "      elif (rand>0.5 and rand<=0.75):\n",
        "            y+=1\n",
        "      else:\n",
        "            y-=1\n",
        "      if x>max_x:\n",
        "        x=x-(max_x-min_x)\n",
        "      if x<min_x:\n",
        "        x=x+(max_x-min_x)\n",
        "      if y>max_y:\n",
        "        y=y-(max_y-min_y)\n",
        "      if y<min_y:\n",
        "        y=y+(max_y-min_y)\n",
        "        # print(x)\n",
        "        # print(y)\n",
        "      sehat_update=sehat_update.append({'x':x,'y':y},ignore_index=True)\n",
        "\n",
        "  # infected\n",
        "    for a in range(len(infected)): #terinfeksi\n",
        "      min_x=min(all_df['x'])\n",
        "      min_y=min(all_df['y'])\n",
        "      max_x=max(all_df['x'])\n",
        "      max_y=max(all_df['y'])\n",
        "\n",
        "      x2 = infected['x'].iloc[a]\n",
        "      y2 = infected['y'].iloc[a]\n",
        "      rand = np.random.random()\n",
        "      if rand <= 0.25:\n",
        "            x2+=1\n",
        "      elif (rand>0.25 and rand<=0.5):\n",
        "            x2-=1\n",
        "      elif (rand>0.5 and rand<=0.75):\n",
        "            y2+=1\n",
        "      else:\n",
        "            y2-=1\n",
        "      if x2>max_x:\n",
        "        x2=x2-(max_x-min_x)\n",
        "      if x2<min_x:\n",
        "        x2=x2+(max_x-min_x)\n",
        "      if y2>max_y:\n",
        "        y2=y2-(max_y-min_y)\n",
        "      if y<min_y:\n",
        "        y2=y2+(max_y-min_y)\n",
        "      # print(x2)\n",
        "      # print(y2) \n",
        "      infected_update=infected_update.append({'x':x2,'y':y2},ignore_index=True)\n",
        "\n",
        "    #time infeksi\n",
        "    infected_update['status']=infected_update['status'].fillna(0)\n",
        "    infected_update['status']=infected_update['status']+1\n",
        "    \n",
        "    #FASE PENYEMBUHAN & imun jika lebih dari 10 statusnya \n",
        "    for d in range(len(infected_update)):\n",
        "      if(infected_update['status'].iloc[d]>time_recovery):\n",
        "        imun_update=imun_update.append({'x':infected_update['x'].iloc[d],'y':infected_update['y'].iloc[d]},ignore_index=True)\n",
        "        \n",
        "      # recovery_update = recovery_update.append()\n",
        "\n",
        "    \n",
        "\n",
        "    # #perinfeksian data apabila koordinat sama\n",
        "    # jml_sehat=len(sehat_update)\n",
        "    # jml_infected=len(infected)\n",
        "    # temp=[]\n",
        "    # j=0\n",
        "    # print(jml_sehat)\n",
        "    # for c in range(jml_infected):\n",
        "    #   for b in range(len(sehat_update)):\n",
        "    #     if(sehat_update['x'].iloc[b]==infected_update['x'].iloc[c]) and (sehat_update['y'].iloc[b]==infected_update['y'].iloc[c]):\n",
        "    #       j+=1\n",
        "    #       infected_update = infected_update.append({'x':x2,'y':y2},ignore_index=True)\n",
        "    #       sehat_update = sehat_update.drop(sehat_update.index[b])\n",
        "    #       break\n",
        "\n",
        "\n",
        "\n",
        "\n",
        "\n",
        "\n",
        "\n",
        "\n",
        "\n",
        "\n",
        "\n",
        "\n",
        "\n",
        "    # for d in range(len(temp)):\n",
        "    #   for e in range(len(sehat_update)): #hapus data sehat       \n",
        "    #     if(sehat_update.index[d]==sehat_update.index[e]):\n",
        "    #       sehat_update = sehat_update.drop(sehat_update.index[e])\n",
        "    #       # jml_sehat=jml_sehat-1\n",
        "    #     break\n",
        "    #     print(len(sehat_update))\n",
        "     \n",
        "      \n",
        "    # print(x)\n",
        "\n",
        "    #UPDATE WAKTU TERINFEKSI\n",
        "    # time_infected+=1\n",
        "\n",
        "    #UPDATE STATUS PENYEMBUHAN \n",
        "\n",
        "\n",
        "  break\n",
        "# print(sehat_update['x'].index[122])\n",
        "# print(temp)\n",
        "# infected_update['status'].iloc[:2]=1\n",
        "# infected_update['status']=infected_update['status']+2\n",
        "infected_update\n",
        "#   break\n",
        "# plt.scatter(sehat_update['x'],sehat_update['y'],c='g')\n",
        "# plt.scatter(infected_update['x'],infected_update['y'],c='r')\n",
        "# plt.show()"
      ],
      "execution_count": 200,
      "outputs": [
        {
          "output_type": "execute_result",
          "data": {
            "text/html": [
              "<div>\n",
              "<style scoped>\n",
              "    .dataframe tbody tr th:only-of-type {\n",
              "        vertical-align: middle;\n",
              "    }\n",
              "\n",
              "    .dataframe tbody tr th {\n",
              "        vertical-align: top;\n",
              "    }\n",
              "\n",
              "    .dataframe thead th {\n",
              "        text-align: right;\n",
              "    }\n",
              "</style>\n",
              "<table border=\"1\" class=\"dataframe\">\n",
              "  <thead>\n",
              "    <tr style=\"text-align: right;\">\n",
              "      <th></th>\n",
              "      <th>x</th>\n",
              "      <th>y</th>\n",
              "      <th>status</th>\n",
              "    </tr>\n",
              "  </thead>\n",
              "  <tbody>\n",
              "    <tr>\n",
              "      <th>0</th>\n",
              "      <td>18.0</td>\n",
              "      <td>1.0</td>\n",
              "      <td>1.0</td>\n",
              "    </tr>\n",
              "    <tr>\n",
              "      <th>1</th>\n",
              "      <td>13.0</td>\n",
              "      <td>14.0</td>\n",
              "      <td>1.0</td>\n",
              "    </tr>\n",
              "    <tr>\n",
              "      <th>2</th>\n",
              "      <td>3.0</td>\n",
              "      <td>5.0</td>\n",
              "      <td>1.0</td>\n",
              "    </tr>\n",
              "    <tr>\n",
              "      <th>3</th>\n",
              "      <td>7.0</td>\n",
              "      <td>5.0</td>\n",
              "      <td>1.0</td>\n",
              "    </tr>\n",
              "    <tr>\n",
              "      <th>4</th>\n",
              "      <td>8.0</td>\n",
              "      <td>14.0</td>\n",
              "      <td>1.0</td>\n",
              "    </tr>\n",
              "    <tr>\n",
              "      <th>5</th>\n",
              "      <td>5.0</td>\n",
              "      <td>3.0</td>\n",
              "      <td>1.0</td>\n",
              "    </tr>\n",
              "    <tr>\n",
              "      <th>6</th>\n",
              "      <td>9.0</td>\n",
              "      <td>16.0</td>\n",
              "      <td>1.0</td>\n",
              "    </tr>\n",
              "    <tr>\n",
              "      <th>7</th>\n",
              "      <td>4.0</td>\n",
              "      <td>15.0</td>\n",
              "      <td>1.0</td>\n",
              "    </tr>\n",
              "    <tr>\n",
              "      <th>8</th>\n",
              "      <td>4.0</td>\n",
              "      <td>6.0</td>\n",
              "      <td>1.0</td>\n",
              "    </tr>\n",
              "    <tr>\n",
              "      <th>9</th>\n",
              "      <td>12.0</td>\n",
              "      <td>17.0</td>\n",
              "      <td>1.0</td>\n",
              "    </tr>\n",
              "  </tbody>\n",
              "</table>\n",
              "</div>"
            ],
            "text/plain": [
              "      x     y  status\n",
              "0  18.0   1.0     1.0\n",
              "1  13.0  14.0     1.0\n",
              "2   3.0   5.0     1.0\n",
              "3   7.0   5.0     1.0\n",
              "4   8.0  14.0     1.0\n",
              "5   5.0   3.0     1.0\n",
              "6   9.0  16.0     1.0\n",
              "7   4.0  15.0     1.0\n",
              "8   4.0   6.0     1.0\n",
              "9  12.0  17.0     1.0"
            ]
          },
          "metadata": {
            "tags": []
          },
          "execution_count": 200
        }
      ]
    },
    {
      "cell_type": "code",
      "metadata": {
        "id": "RXXN7I9TyYn_",
        "colab_type": "code",
        "colab": {}
      },
      "source": [
        "df_drop"
      ],
      "execution_count": 0,
      "outputs": []
    },
    {
      "cell_type": "code",
      "metadata": {
        "id": "Rh60fZyUE63W",
        "colab_type": "code",
        "colab": {
          "base_uri": "https://localhost:8080/",
          "height": 34
        },
        "outputId": "db8a9c02-a8be-4a5a-db7f-7d32aafbedd9"
      },
      "source": [
        "ITR = range(10)\n",
        "POP = range(190)\n",
        "\n",
        "for i in ITR:\n",
        "  prob = np.random.random()\n",
        "  if prob<=0.8:\n",
        "    tmp_x,tmp_y = [],[]\n",
        "    for j in POP:\n",
        "      rand = np.random.random()\n",
        "      x = df['x'].iloc[j]\n",
        "      y = df['y'].iloc[j]\n",
        "      rand = np.random.random()\n",
        "      if rand <= 0.25:\n",
        "            x+=1\n",
        "      elif (rand>0.25 and rand<=0.5):\n",
        "            x-=1\n",
        "      elif (rand>0.5 and rand<=0.75):\n",
        "            y+=1\n",
        "      else:\n",
        "            y-=1\n",
        "      if x>20:\n",
        "        x=x-20\n",
        "      if x<20:\n",
        "        x=x+20\n",
        "      if y>20:\n",
        "        y=y-20\n",
        "      if y<20:\n",
        "        y=y+20\n",
        "      print(x)\n",
        "      break\n",
        "  break\n",
        "      # for k in range(10):\n",
        "      #   if(x==infected['x'].iloc[k] and y==infected['y'].iloc[k]):\n",
        "      #     infected = infected.append({'x':x,'y':y},ignore_index=True)\n",
        "      #     df = df.drop(df.index[i])\n",
        "\n",
        "# infected"
      ],
      "execution_count": 45,
      "outputs": [
        {
          "output_type": "stream",
          "text": [
            "36\n"
          ],
          "name": "stdout"
        }
      ]
    }
  ]
}